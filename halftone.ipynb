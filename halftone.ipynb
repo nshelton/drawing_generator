{
 "cells": [
  {
   "cell_type": "code",
   "execution_count": 15,
   "metadata": {},
   "outputs": [
    {
     "name": "stdout",
     "output_type": "stream",
     "text": [
      "(1664, 1126, 3)\n",
      "3060 \t 11069\t\t\t\t\t\t\r"
     ]
    },
    {
     "data": {
      "text/plain": [
       "True"
      ]
     },
     "execution_count": 15,
     "metadata": {},
     "output_type": "execute_result"
    }
   ],
   "source": [
    "import numpy as np\n",
    "\n",
    "from skimage.transform import hough_line, hough_line_peaks\n",
    "from skimage.feature import canny\n",
    "from skimage.draw import line as draw_line\n",
    "from skimage import data\n",
    "import cv2\n",
    "import matplotlib.pyplot as plt\n",
    "from matplotlib import cm\n",
    "from skimage.transform import probabilistic_hough_line\n",
    "import random \n",
    "\n",
    "# Load image\"\n",
    "# image_path = \"/Users/nshelton/Pictures/gundam_title.png\"\n",
    "# image_path = \"/Users/nshelton/Pictures/tree.jpg\"\n",
    "image_path = \"/Users/nshelton/Pictures/somedragon.jpg\"\n",
    "# image_path = \"/Users/nshelton/Pictures/kirby.jpg\"\n",
    "\n",
    "\n",
    "image = cv2.imread(image_path)\n",
    "# kernel = cv2.getStructuringElement(cv2.MORPH_ELLIPSE, (3,3))\n",
    "# for i in range(5):\n",
    "  # image = cv2.erode(image,kernel, cv2.MORPH_CROSS)\n",
    "# image[:,:,2] = image[:,:,0]\n",
    "\n",
    "# image_gray = image[:,:,2]\n",
    "\n",
    "\n",
    "image = cv2.resize(image, (-1,-1), fx = 2, fy = 2)\n",
    "\n",
    "print(image.shape)\n",
    "\n",
    "target_color = [0,0,0] \n",
    "# target_color = [255,255,255] \n",
    "# target_color = [0,255,0] \n",
    "\n",
    "mask = image - target_color\n",
    "mask = np.linalg.norm(mask, axis=2) < 100\n",
    "\n",
    "\n",
    "color_mask = np.ones((mask.shape[0], mask.shape[1]), np.uint8) * 255\n",
    "color_mask[mask] = 0\n",
    "\n",
    "filtered = 255 - color_mask\n",
    "\n",
    "cv2.imwrite(\"filtered.png\", filtered)\n",
    "\n",
    "all_strokes_raster = np.ones(filtered.shape) * 255\n",
    "\n",
    "all_paths = []\n",
    " \n",
    "while filtered.sum() > 0:\n",
    "    print(filtered.sum(), \"\\t\", len(all_paths),  end=\"\\t\\t\\t\\r\")\n",
    "    min_val, max_val, min_loc, max_loc = cv2.minMaxLoc(filtered)\n",
    "\n",
    "    def placeStroke(input_raster, start):\n",
    "        path = []\n",
    "        pos = np.array(start)\n",
    "\n",
    "        while(input_raster[pos[1], pos[0]] > 0):\n",
    "            path.append(pos.copy())\n",
    "            pos += [1,1]\n",
    "\n",
    "        return path\n",
    "    \n",
    "    line_thickness = 4\n",
    "    \n",
    "    def rasterStroke(dims, path) :\n",
    "        img = np.zeros(dims)\n",
    "        for i in range(len(path)-1):\n",
    "            a = (round(path[i][0]) , round(path[i][1]) )\n",
    "            b = (round(path[i+1][0]) , round(path[i+1][1]) )\n",
    "            cv2.line(img, a, b, 0, line_thickness, cv2.LINE_AA)\n",
    "            \n",
    "        return img\n",
    "    \n",
    "    def rasterStrokeDirect(img, path, color, line_thickness=20) :\n",
    "        if len(path) == 1:\n",
    "            a = (round(path[0][0]) , round(path[0][1]) )\n",
    "            cv2.circle(img, a, line_thickness//2, color, -1)\n",
    "\n",
    "        for i in range(len(path)-1):\n",
    "            a = (round(path[i][0]) , round(path[i][1]) )\n",
    "            b = (round(path[i+1][0]) , round(path[i+1][1]) )\n",
    "            cv2.line(img, a, b, color, line_thickness, cv2.LINE_4)\n",
    "    \n",
    "    new_stroke = placeStroke(filtered, max_loc)\n",
    "    rasterStrokeDirect(filtered, new_stroke, 0, line_thickness)\n",
    "    rasterStrokeDirect(all_strokes_raster, new_stroke, 0, line_thickness)\n",
    "\n",
    "    all_paths.append(new_stroke)\n",
    "\n",
    "    if (len(all_paths) % 10 == 1):\n",
    "        cv2.imwrite(\"current_stroke.png\",  (all_strokes_raster).astype(np.uint8))\n",
    "        cv2.imwrite(\"filtered.png\", filtered)\n",
    "\n",
    "cv2.imwrite(\"current_stroke.png\",  (all_strokes_raster).astype(np.uint8))\n",
    "\n",
    "\n"
   ]
  },
  {
   "cell_type": "code",
   "execution_count": 16,
   "metadata": {},
   "outputs": [
    {
     "data": {
      "text/plain": [
       "True"
      ]
     },
     "execution_count": 16,
     "metadata": {},
     "output_type": "execute_result"
    }
   ],
   "source": [
    "import cv2\n",
    "import numpy as np\n",
    "\n",
    "\n",
    "from pathUtils import *\n",
    "\n",
    "RENDER_SCALE = 0.2\n",
    "\n",
    "# connect_close_paths(path_list)\n",
    "path_list = [[p.tolist() for p in path] for path in all_paths]\n",
    "render_img = plotPaths(path_list, RENDER_SCALE)\n",
    "cv2.imwrite(\"render.png\", render_img)\n",
    "\n"
   ]
  },
  {
   "cell_type": "code",
   "execution_count": 17,
   "metadata": {},
   "outputs": [
    {
     "name": "stdout",
     "output_type": "stream",
     "text": [
      "11070\n"
     ]
    },
    {
     "name": "stderr",
     "output_type": "stream",
     "text": [
      " 84%|████████▍ | 9323/11070 [04:02<00:45, 38.40it/s]\n"
     ]
    },
    {
     "name": "stdout",
     "output_type": "stream",
     "text": [
      "merged to 1747\n"
     ]
    },
    {
     "data": {
      "text/plain": [
       "True"
      ]
     },
     "execution_count": 17,
     "metadata": {},
     "output_type": "execute_result"
    }
   ],
   "source": [
    "from tqdm import tqdm\n",
    "\n",
    "\n",
    "import numpy as np\n",
    "from scipy.spatial import KDTree\n",
    " \n",
    "\n",
    "path_list = [[p.tolist() for p in path] for path in all_paths]\n",
    "\n",
    "print(len(path_list))\n",
    "\n",
    "\n",
    "for i in tqdm(range(len(path_list))):\n",
    "    len_before = len(path_list)\n",
    "    path_list = merge_one_path_kd(path_list, threshold=5)\n",
    "    if len_before == len(path_list):\n",
    "        break\n",
    "\n",
    "print(\"merged to\", len(path_list))\n",
    "render_img = plotPaths(path_list, RENDER_SCALE)\n",
    "cv2.imwrite(\"render.png\", render_img)\n",
    "\n",
    "\n",
    "\n"
   ]
  },
  {
   "cell_type": "code",
   "execution_count": 18,
   "metadata": {},
   "outputs": [
    {
     "name": "stdout",
     "output_type": "stream",
     "text": [
      "closed loops 1747\n",
      "smoothed 1 1747\n",
      "simplify_all 1 1747\n",
      "smoothed 2 1747\n",
      "simplify 2 1747\n"
     ]
    },
    {
     "data": {
      "text/plain": [
       "True"
      ]
     },
     "execution_count": 18,
     "metadata": {},
     "output_type": "execute_result"
    }
   ],
   "source": [
    "\n",
    "\n",
    "path_list = close_loops(path_list)\n",
    "\n",
    "print(\"closed loops\", len(path_list))\n",
    "\n",
    "path_list  = [np.array(path) for path in path_list]\n",
    "\n",
    "path_list = smooth_all_2(path_list, 0.2)\n",
    "\n",
    "print(\"smoothed 1\", len(path_list))\n",
    "\n",
    "path_list = simplify_all(path_list, 0.001)\n",
    "\n",
    "print(\"simplify_all 1\", len(path_list))\n",
    "\n",
    "path_list = smooth_all_2(path_list, 0.01)\n",
    "\n",
    "\n",
    "print(\"smoothed 2\", len(path_list))\n",
    "\n",
    "path_list = simplify_all(path_list, 0.5)\n",
    "print(\"simplify 2\", len(path_list))\n",
    "\n",
    "render_img = plotPaths(path_list, RENDER_SCALE)\n",
    "cv2.imwrite(\"render.png\", render_img)\n"
   ]
  },
  {
   "cell_type": "code",
   "execution_count": null,
   "metadata": {},
   "outputs": [],
   "source": []
  },
  {
   "cell_type": "code",
   "execution_count": 19,
   "metadata": {},
   "outputs": [],
   "source": [
    " \n",
    "import json\n",
    "import uuid\n",
    "\n",
    "projects_folder = \"/Users/nshelton/Hephaestus/projects\"\n",
    "\n",
    "def writePlot(paths):\n",
    "    dictionary = {\n",
    "        \"created_time\": \"4/7/2024 4:42:27 PM\",\n",
    "        \"modified_time\": \"4/7/2024 6:27:36 PM\",\n",
    "        \"camera_position\": [100, 100],\n",
    "        \"zoom\": 10.702,\n",
    "        \"aspect\": 0.563,\n",
    "        \"dom_element\": {},\n",
    "        \"plot_models\": [],\n",
    "    }\n",
    "\n",
    "    dictionary[\"plot_models\"].append(\n",
    "        {\n",
    "            \"position\": {\"x\": 0, \"y\": 0},\n",
    "            \"paths\": [path.tolist() for path in path_list],\n",
    "            \"scale\": 0.1,\n",
    "            \"id\": str(uuid.uuid4()),\n",
    "            \"state\": \"none\",\n",
    "        }\n",
    "    )\n",
    "\n",
    "\n",
    "    with open(projects_folder + \"/some_dragon.json\", \"w\") as outfile:\n",
    "        json.dump(dictionary, outfile)\n",
    "\n",
    "\n",
    "writePlot(path_list)\n",
    "\n"
   ]
  }
 ],
 "metadata": {
  "kernelspec": {
   "display_name": "base",
   "language": "python",
   "name": "python3"
  },
  "language_info": {
   "codemirror_mode": {
    "name": "ipython",
    "version": 3
   },
   "file_extension": ".py",
   "mimetype": "text/x-python",
   "name": "python",
   "nbconvert_exporter": "python",
   "pygments_lexer": "ipython3",
   "version": "3.11.0"
  }
 },
 "nbformat": 4,
 "nbformat_minor": 2
}
