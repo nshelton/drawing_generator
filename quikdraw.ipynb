{
 "cells": [
  {
   "cell_type": "code",
   "execution_count": 52,
   "metadata": {},
   "outputs": [],
   "source": [
    "import cv2 \n",
    "import numpy as np\n",
    "\n",
    "upscale = 10\n",
    "def plotPaths(paths):\n",
    "    img = np.ones((297 * upscale, 420 * upscale, 3), np.uint8) * 255\n",
    "\n",
    "    for path in paths :\n",
    "        for i in range(len(path)-1):\n",
    "            a = (round(path[i][0]* upscale) , round(path[i][1]* upscale) )\n",
    "            b = (round(path[i+1][0]* upscale) , round(path[i+1][1]* upscale) )\n",
    "            cv2.line(img, a, b, (0,0,0), 1, cv2.LINE_AA)\n",
    "\n",
    "    cv2.imwrite(\"render.png\", img)\n",
    "\n",
    "\n",
    "def circle_path(pos, radius, num_points=6):\n",
    "    angles = np.linspace(0, 2 * np.pi, num_points)\n",
    "    path = radius * np.array([np.cos(angles), np.sin(angles)]).T + pos;\n",
    "    return np.array(path)\n",
    "\n",
    "\n",
    "paths = []\n",
    "\n"
   ]
  },
  {
   "cell_type": "markdown",
   "metadata": {},
   "source": [
    "// voronoi  relaxation\n",
    "\n",
    "//grid based hatching\n",
    "\n",
    "// units are in mm"
   ]
  },
  {
   "cell_type": "code",
   "execution_count": 60,
   "metadata": {},
   "outputs": [
    {
     "name": "stdout",
     "output_type": "stream",
     "text": [
      "736 1051\n"
     ]
    },
    {
     "name": "stderr",
     "output_type": "stream",
     "text": [
      "100%|██████████| 10000/10000 [00:00<00:00, 71340.44it/s]\n",
      "100%|██████████| 1051/1051 [00:12<00:00, 82.00it/s]\n",
      "100%|██████████| 1051/1051 [00:13<00:00, 80.58it/s]\n",
      "100%|██████████| 1051/1051 [00:12<00:00, 81.01it/s]\n",
      " 26%|██▌       | 269/1051 [00:03<00:10, 76.55it/s]\n"
     ]
    },
    {
     "ename": "KeyboardInterrupt",
     "evalue": "",
     "output_type": "error",
     "traceback": [
      "\u001b[0;31m---------------------------------------------------------------------------\u001b[0m",
      "\u001b[0;31mKeyboardInterrupt\u001b[0m                         Traceback (most recent call last)",
      "Cell \u001b[0;32mIn[60], line 59\u001b[0m\n\u001b[1;32m     57\u001b[0m px \u001b[38;5;241m=\u001b[39m (col, row)\n\u001b[1;32m     58\u001b[0m value \u001b[38;5;241m=\u001b[39m image_value[row, col]\n\u001b[0;32m---> 59\u001b[0m d, idx \u001b[38;5;241m=\u001b[39m \u001b[43mtree\u001b[49m\u001b[38;5;241;43m.\u001b[39;49m\u001b[43mquery\u001b[49m\u001b[43m(\u001b[49m\u001b[43mpx\u001b[49m\u001b[43m)\u001b[49m\n\u001b[1;32m     60\u001b[0m points_to_centroid[idx] \u001b[38;5;241m+\u001b[39m\u001b[38;5;241m=\u001b[39m np\u001b[38;5;241m.\u001b[39marray(px) \u001b[38;5;241m*\u001b[39m value\n\u001b[1;32m     61\u001b[0m points_to_totals[idx] \u001b[38;5;241m+\u001b[39m\u001b[38;5;241m=\u001b[39m value\n",
      "File \u001b[0;32m~/miniconda3/lib/python3.11/site-packages/scipy/spatial/_kdtree.py:475\u001b[0m, in \u001b[0;36mKDTree.query\u001b[0;34m(self, x, k, eps, p, distance_upper_bound, workers)\u001b[0m\n\u001b[1;32m    472\u001b[0m \u001b[38;5;28;01mif\u001b[39;00m k \u001b[38;5;129;01mis\u001b[39;00m \u001b[38;5;28;01mNone\u001b[39;00m:\n\u001b[1;32m    473\u001b[0m     \u001b[38;5;28;01mraise\u001b[39;00m \u001b[38;5;167;01mValueError\u001b[39;00m(\u001b[38;5;124m\"\u001b[39m\u001b[38;5;124mk must be an integer or a sequence of integers\u001b[39m\u001b[38;5;124m\"\u001b[39m)\n\u001b[0;32m--> 475\u001b[0m d, i \u001b[38;5;241m=\u001b[39m \u001b[38;5;28;43msuper\u001b[39;49m\u001b[43m(\u001b[49m\u001b[43m)\u001b[49m\u001b[38;5;241;43m.\u001b[39;49m\u001b[43mquery\u001b[49m\u001b[43m(\u001b[49m\u001b[43mx\u001b[49m\u001b[43m,\u001b[49m\u001b[43m \u001b[49m\u001b[43mk\u001b[49m\u001b[43m,\u001b[49m\u001b[43m \u001b[49m\u001b[43meps\u001b[49m\u001b[43m,\u001b[49m\u001b[43m \u001b[49m\u001b[43mp\u001b[49m\u001b[43m,\u001b[49m\u001b[43m \u001b[49m\u001b[43mdistance_upper_bound\u001b[49m\u001b[43m,\u001b[49m\u001b[43m \u001b[49m\u001b[43mworkers\u001b[49m\u001b[43m)\u001b[49m\n\u001b[1;32m    476\u001b[0m \u001b[38;5;28;01mif\u001b[39;00m \u001b[38;5;28misinstance\u001b[39m(i, \u001b[38;5;28mint\u001b[39m):\n\u001b[1;32m    477\u001b[0m     i \u001b[38;5;241m=\u001b[39m np\u001b[38;5;241m.\u001b[39mintp(i)\n",
      "File \u001b[0;32m_ckdtree.pyx:834\u001b[0m, in \u001b[0;36mscipy.spatial._ckdtree.cKDTree.query\u001b[0;34m()\u001b[0m\n",
      "File \u001b[0;32m~/miniconda3/lib/python3.11/site-packages/numpy/core/fromnumeric.py:285\u001b[0m, in \u001b[0;36mreshape\u001b[0;34m(a, newshape, order)\u001b[0m\n\u001b[1;32m    200\u001b[0m \u001b[38;5;129m@array_function_dispatch\u001b[39m(_reshape_dispatcher)\n\u001b[1;32m    201\u001b[0m \u001b[38;5;28;01mdef\u001b[39;00m \u001b[38;5;21mreshape\u001b[39m(a, newshape, order\u001b[38;5;241m=\u001b[39m\u001b[38;5;124m'\u001b[39m\u001b[38;5;124mC\u001b[39m\u001b[38;5;124m'\u001b[39m):\n\u001b[1;32m    202\u001b[0m \u001b[38;5;250m    \u001b[39m\u001b[38;5;124;03m\"\"\"\u001b[39;00m\n\u001b[1;32m    203\u001b[0m \u001b[38;5;124;03m    Gives a new shape to an array without changing its data.\u001b[39;00m\n\u001b[1;32m    204\u001b[0m \n\u001b[0;32m   (...)\u001b[0m\n\u001b[1;32m    283\u001b[0m \u001b[38;5;124;03m           [5, 6]])\u001b[39;00m\n\u001b[1;32m    284\u001b[0m \u001b[38;5;124;03m    \"\"\"\u001b[39;00m\n\u001b[0;32m--> 285\u001b[0m     \u001b[38;5;28;01mreturn\u001b[39;00m \u001b[43m_wrapfunc\u001b[49m\u001b[43m(\u001b[49m\u001b[43ma\u001b[49m\u001b[43m,\u001b[49m\u001b[43m \u001b[49m\u001b[38;5;124;43m'\u001b[39;49m\u001b[38;5;124;43mreshape\u001b[39;49m\u001b[38;5;124;43m'\u001b[39;49m\u001b[43m,\u001b[49m\u001b[43m \u001b[49m\u001b[43mnewshape\u001b[49m\u001b[43m,\u001b[49m\u001b[43m \u001b[49m\u001b[43morder\u001b[49m\u001b[38;5;241;43m=\u001b[39;49m\u001b[43morder\u001b[49m\u001b[43m)\u001b[49m\n",
      "File \u001b[0;32m~/miniconda3/lib/python3.11/site-packages/numpy/core/fromnumeric.py:56\u001b[0m, in \u001b[0;36m_wrapfunc\u001b[0;34m(obj, method, *args, **kwds)\u001b[0m\n\u001b[1;32m     54\u001b[0m bound \u001b[38;5;241m=\u001b[39m \u001b[38;5;28mgetattr\u001b[39m(obj, method, \u001b[38;5;28;01mNone\u001b[39;00m)\n\u001b[1;32m     55\u001b[0m \u001b[38;5;28;01mif\u001b[39;00m bound \u001b[38;5;129;01mis\u001b[39;00m \u001b[38;5;28;01mNone\u001b[39;00m:\n\u001b[0;32m---> 56\u001b[0m     \u001b[38;5;28;01mreturn\u001b[39;00m \u001b[43m_wrapit\u001b[49m\u001b[43m(\u001b[49m\u001b[43mobj\u001b[49m\u001b[43m,\u001b[49m\u001b[43m \u001b[49m\u001b[43mmethod\u001b[49m\u001b[43m,\u001b[49m\u001b[43m \u001b[49m\u001b[38;5;241;43m*\u001b[39;49m\u001b[43margs\u001b[49m\u001b[43m,\u001b[49m\u001b[43m \u001b[49m\u001b[38;5;241;43m*\u001b[39;49m\u001b[38;5;241;43m*\u001b[39;49m\u001b[43mkwds\u001b[49m\u001b[43m)\u001b[49m\n\u001b[1;32m     58\u001b[0m \u001b[38;5;28;01mtry\u001b[39;00m:\n\u001b[1;32m     59\u001b[0m     \u001b[38;5;28;01mreturn\u001b[39;00m bound(\u001b[38;5;241m*\u001b[39margs, \u001b[38;5;241m*\u001b[39m\u001b[38;5;241m*\u001b[39mkwds)\n",
      "File \u001b[0;32m~/miniconda3/lib/python3.11/site-packages/numpy/core/fromnumeric.py:45\u001b[0m, in \u001b[0;36m_wrapit\u001b[0;34m(obj, method, *args, **kwds)\u001b[0m\n\u001b[1;32m     43\u001b[0m \u001b[38;5;28;01mexcept\u001b[39;00m \u001b[38;5;167;01mAttributeError\u001b[39;00m:\n\u001b[1;32m     44\u001b[0m     wrap \u001b[38;5;241m=\u001b[39m \u001b[38;5;28;01mNone\u001b[39;00m\n\u001b[0;32m---> 45\u001b[0m result \u001b[38;5;241m=\u001b[39m \u001b[38;5;28mgetattr\u001b[39m(asarray(obj), method)(\u001b[38;5;241m*\u001b[39margs, \u001b[38;5;241m*\u001b[39m\u001b[38;5;241m*\u001b[39mkwds)\n\u001b[1;32m     46\u001b[0m \u001b[38;5;28;01mif\u001b[39;00m wrap:\n\u001b[1;32m     47\u001b[0m     \u001b[38;5;28;01mif\u001b[39;00m \u001b[38;5;129;01mnot\u001b[39;00m \u001b[38;5;28misinstance\u001b[39m(result, mu\u001b[38;5;241m.\u001b[39mndarray):\n",
      "\u001b[0;31mKeyboardInterrupt\u001b[0m: "
     ]
    }
   ],
   "source": [
    "import cv2\n",
    "import numpy as np\n",
    "import matplotlib.pyplot as plt\n",
    "from scipy.spatial import Voronoi, voronoi_plot_2d, KDTree\n",
    "from tqdm import tqdm\n",
    "from random import random\n",
    "from math import sqrt \n",
    "\n",
    "\n",
    "def plotPoints(points):\n",
    "    paths = [circle_path(p/4, 0.1) for p in points]\n",
    "    plotPaths(paths)\n",
    "\n",
    "# Load image\n",
    "image_path = \"/Users/nshelton/Pictures/cat.jpg\"\n",
    "\n",
    "image = cv2.imread(image_path)\n",
    "image_gray = cv2.cvtColor(image, cv2.COLOR_BGR2GRAY)\n",
    "\n",
    "# image_value = cv2.resize(image_gray, (-1, -1), fx = 0.5, fy = 0.5)\n",
    "image_value = image_gray\n",
    "image_value = (256 - image_value).astype(np.float32)\n",
    "image_value /= 255\n",
    "\n",
    "h,w = image_value.shape\n",
    "print(w,h)\n",
    "\n",
    "points = []\n",
    "n_points = 10000\n",
    "max_tries = 10000000\n",
    "i = 0\n",
    "\n",
    "with tqdm(total=n_points) as pbar:\n",
    "    while len(points) < n_points:\n",
    "        i += 1\n",
    "        if i > max_tries :\n",
    "            break\n",
    "\n",
    "        x, y = random() * w, random() * h\n",
    "        if image_value[int(y),(int(x))] > (random()):\n",
    "            pbar.update(1)\n",
    "            points.append([x,y])\n",
    "\n",
    "    points = np.array(points)\n",
    "\n",
    "plotPoints(points)\n",
    "\n",
    "\n",
    "for i in range(10):\n",
    "    tree = KDTree(points)\n",
    "\n",
    "    points_to_centroid = np.zeros((len(points), 2))\n",
    "    points_to_totals = np.zeros((len(points), 1))\n",
    "\n",
    "    for row in tqdm(range(image_value.shape[0])):\n",
    "        for col in range(image_value.shape[1]):\n",
    "            px = (col, row)\n",
    "            value = image_value[row, col]\n",
    "            d, idx = tree.query(px)\n",
    "            points_to_centroid[idx] += np.array(px) * value\n",
    "            points_to_totals[idx] += value\n",
    "\n",
    "    # remove useless points (white areas)\n",
    "    mask, _  = np.nonzero(points_to_totals)\n",
    "    \n",
    "    points = points_to_centroid[mask]/points_to_totals[mask]\n",
    "\n",
    "\n",
    "    plotPoints(points)\n",
    "\n",
    "\n"
   ]
  },
  {
   "cell_type": "code",
   "execution_count": 38,
   "metadata": {},
   "outputs": [
    {
     "name": "stdout",
     "output_type": "stream",
     "text": [
      "(10000, 1)\n",
      "(9966,)\n"
     ]
    }
   ],
   "source": [
    "\n",
    "print(points_to_totals.shape)\n",
    "print(mask.shape)"
   ]
  },
  {
   "cell_type": "code",
   "execution_count": null,
   "metadata": {},
   "outputs": [],
   "source": []
  },
  {
   "cell_type": "code",
   "execution_count": 62,
   "metadata": {},
   "outputs": [],
   "source": [
    " \n",
    "import json\n",
    "import uuid\n",
    "\n",
    "projects_folder = \"/Users/nshelton/Hephaestus/projects\"\n",
    "\n",
    "def writePlot(paths):\n",
    "    dictionary = {\n",
    "        \"created_time\": \"4/7/2024 4:42:27 PM\",\n",
    "        \"modified_time\": \"4/7/2024 6:27:36 PM\",\n",
    "        \"camera_position\": [100, 100],\n",
    "        \"zoom\": 100.702,\n",
    "        \"aspect\": 0.563,\n",
    "        \"dom_element\": {},\n",
    "        \"plot_models\": [],\n",
    "    }\n",
    "\n",
    "    dictionary[\"plot_models\"].append(\n",
    "        {\n",
    "            \"position\": {\"x\": 0, \"y\": 0},\n",
    "            \"paths\": np.array(paths).tolist(),\n",
    "            \"scale\": 0.1,\n",
    "            \"id\": str(uuid.uuid4()),\n",
    "            \"state\": \"none\",\n",
    "        }\n",
    "    )\n",
    "\n",
    "    with open(projects_folder + \"/out.json\", \"w\") as outfile:\n",
    "        json.dump(dictionary, outfile)\n",
    "\n",
    "paths = [circle_path(p, 1) for p in points]\n",
    "\n",
    "writePlot(paths)\n",
    "\n"
   ]
  },
  {
   "cell_type": "markdown",
   "metadata": {},
   "source": []
  }
 ],
 "metadata": {
  "kernelspec": {
   "display_name": "base",
   "language": "python",
   "name": "python3"
  },
  "language_info": {
   "codemirror_mode": {
    "name": "ipython",
    "version": 3
   },
   "file_extension": ".py",
   "mimetype": "text/x-python",
   "name": "python",
   "nbconvert_exporter": "python",
   "pygments_lexer": "ipython3",
   "version": "3.11.0"
  }
 },
 "nbformat": 4,
 "nbformat_minor": 2
}
