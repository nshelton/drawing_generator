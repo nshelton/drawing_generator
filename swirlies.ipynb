{
 "cells": [
  {
   "cell_type": "code",
   "execution_count": null,
   "metadata": {},
   "outputs": [],
   "source": []
  },
  {
   "cell_type": "code",
   "execution_count": 32,
   "metadata": {},
   "outputs": [
    {
     "name": "stdout",
     "output_type": "stream",
     "text": [
      "(818, 584) uint8 0 255 126.14138853535184\n"
     ]
    }
   ],
   "source": [
    "import cv2\n",
    "import numpy as np\n",
    "import matplotlib.pyplot as plt\n",
    "from scipy.spatial import Voronoi, voronoi_plot_2d, KDTree\n",
    "from tqdm import tqdm\n",
    "from random import random\n",
    "from math import sqrt \n",
    "\n",
    "# Load image\n",
    "# image_path = \"/Users/nshelton/Pictures/daruma.jpg\"\n",
    "image_path = \"/Users/nshelton/Pictures/majora.jpg\"\n",
    "# image_path = \"/Users/nshelton/Desktop/rozo2.png\"\n",
    "# image_path = \"/Users/nshelton/Desktop/calligraphy.png\"\n",
    "# image_path = \"/Users/nshelton/Pictures/Gray093.jpg\"\n",
    "\n",
    "# image_path = \"/Users/nshelton/Pictures/horsemen.png\"\n",
    "image = cv2.imread(image_path)\n",
    "image_gray = cv2.cvtColor(image, cv2.COLOR_BGR2GRAY)\n",
    "\n",
    "# image_value = cv2.resize(image_gray, (-1, -1), fx = 0.5, fy = 0.5)\n",
    "image_value = image_gray\n",
    "image_value = (255 - image_value).astype(np.float32)\n",
    "image_value -= image_value.min()\n",
    "\n",
    "image_value /= image_value.max()\n",
    "\n",
    "filtered = image_value * 255\n",
    "# filtered = cv2.blur(filtered, (7,7)) \n",
    "# filtered = np.abs(cv2.Laplacian(filtered * 50, cv2.CV_32F))\n",
    "\n",
    "filtered -= filtered.min()\n",
    "filtered /= filtered.max()\n",
    "\n",
    "filtered = (255 * filtered).astype(np.uint8) \n",
    "# filtered= cv2.adaptiveThreshold(filtered, 255, cv2.ADAPTIVE_THRESH_GAUSSIAN_C, cv2.THRESH_BINARY, 31, -20)\n",
    "\n",
    "\n",
    "\n",
    "filtered = np.pad(filtered, 10, mode='constant', constant_values=0)\n",
    "# filtered = cv2.medianBlur(filtered, 3)\n",
    "cv2.imwrite(\"filtered.png\", filtered)\n",
    "\n",
    "\n",
    "\n",
    "print(filtered.shape, filtered.dtype, filtered.min(), filtered.max(), filtered.mean())"
   ]
  },
  {
   "cell_type": "code",
   "execution_count": 38,
   "metadata": {},
   "outputs": [
    {
     "name": "stdout",
     "output_type": "stream",
     "text": [
      "1258 44002882.0 254.0 0.0\r"
     ]
    },
    {
     "ename": "KeyboardInterrupt",
     "evalue": "",
     "output_type": "error",
     "traceback": [
      "\u001b[0;31m---------------------------------------------------------------------------\u001b[0m",
      "\u001b[0;31mKeyboardInterrupt\u001b[0m                         Traceback (most recent call last)",
      "Cell \u001b[0;32mIn[38], line 81\u001b[0m\n\u001b[1;32m     78\u001b[0m new_stroke \u001b[38;5;241m=\u001b[39m smooth_stroke(new_stroke)\n\u001b[1;32m     79\u001b[0m all_paths \u001b[38;5;241m=\u001b[39m add_path_with_merge(all_paths, new_stroke, threshold \u001b[38;5;241m=\u001b[39m \u001b[38;5;241m2\u001b[39m)\n\u001b[0;32m---> 81\u001b[0m stroke_raster \u001b[38;5;241m=\u001b[39m rasterStroke(filtered\u001b[38;5;241m.\u001b[39mshape, new_stroke)\n\u001b[1;32m     83\u001b[0m remaining_ink \u001b[38;5;241m=\u001b[39m remaining_ink \u001b[38;5;241m-\u001b[39m stroke_raster\n\u001b[1;32m     84\u001b[0m remaining_ink \u001b[38;5;241m=\u001b[39m np\u001b[38;5;241m.\u001b[39mclip(remaining_ink, \u001b[38;5;241m0\u001b[39m, \u001b[38;5;241m255\u001b[39m)\n",
      "Cell \u001b[0;32mIn[38], line 52\u001b[0m, in \u001b[0;36mrasterStroke\u001b[0;34m(dims, path)\u001b[0m\n\u001b[1;32m     50\u001b[0m \u001b[38;5;28;01mdef\u001b[39;00m \u001b[38;5;21mrasterStroke\u001b[39m(dims, path):\n\u001b[0;32m---> 52\u001b[0m     img \u001b[38;5;241m=\u001b[39m np\u001b[38;5;241m.\u001b[39mzeros(dims)\n\u001b[1;32m     54\u001b[0m     \u001b[38;5;28;01mif\u001b[39;00m (\u001b[38;5;28mlen\u001b[39m(path)) \u001b[38;5;241m==\u001b[39m \u001b[38;5;241m1\u001b[39m:\n\u001b[1;32m     55\u001b[0m         cv2\u001b[38;5;241m.\u001b[39mcircle(\n\u001b[1;32m     56\u001b[0m             img, (\u001b[38;5;28mround\u001b[39m(path[\u001b[38;5;241m0\u001b[39m][\u001b[38;5;241m0\u001b[39m]), \u001b[38;5;28mround\u001b[39m(path[\u001b[38;5;241m0\u001b[39m][\u001b[38;5;241m1\u001b[39m])), line_thickness\u001b[38;5;241m/\u001b[39m\u001b[38;5;241m/\u001b[39m\u001b[38;5;241m2\u001b[39m, color, \u001b[38;5;241m-\u001b[39m\u001b[38;5;241m1\u001b[39m\n\u001b[1;32m     57\u001b[0m         )\n",
      "\u001b[0;31mKeyboardInterrupt\u001b[0m: "
     ]
    }
   ],
   "source": [
    "from pathUtils import *\n",
    "\n",
    "remaining_ink = filtered.copy()\n",
    "\n",
    "all_strokes_img = np.ones(remaining_ink.shape) * 255\n",
    "all_paths = []\n",
    "\n",
    "MAX_PATHS = 300000\n",
    "\n",
    "for i in range(MAX_PATHS):\n",
    "    if remaining_ink.sum() == 0:\n",
    "        break\n",
    "\n",
    "    min_val, max_val, min_loc, max_loc = cv2.minMaxLoc(remaining_ink)\n",
    "\n",
    "    # print(max_loc)\n",
    "    line_thickness = 3\n",
    "    stroke_color = 64\n",
    "    window = 1\n",
    "\n",
    "    def lookupxy(raster, xy):\n",
    "        if int(xy[1]) > 0 and int(xy[1]) < raster.shape[0] and  int(xy[0]) > 0 and int(xy[0]) < raster.shape[1]:\n",
    "            return raster[int(xy[1]), int(xy[0])]\n",
    "        return np.nan\n",
    "    \n",
    "    def placeStroke(input_raster, start):\n",
    "        img = input_raster.copy()\n",
    "        path = []\n",
    "        pos = np.array(start)\n",
    "\n",
    "        max_val = lookupxy(input_raster, pos)\n",
    "        start_val = max_val\n",
    "        dir = np.array([1, 0])\n",
    "        while True:\n",
    "            min_val, max_val, min_loc, max_loc = cv2.minMaxLoc(\n",
    "                img[\n",
    "                    round(pos[1] - window + dir[1]): round(pos[1] + window + 1 + dir[1]),\n",
    "                    round(pos[0] - window + dir[0]): round(pos[0] + window + 1 + dir[0]),\n",
    "                ]\n",
    "            )\n",
    "            if max_val < start_val/2:\n",
    "                return path\n",
    "            dir = dir * 0.9 + (np.array(max_loc) - window) * 0.1\n",
    "            pos += np.array(max_loc) - window\n",
    "            path.append(pos.copy())\n",
    "            cv2.circle(img, pos, window, 0, -1)\n",
    "\n",
    "    \n",
    "    color = stroke_color\n",
    "    def rasterStroke(dims, path):\n",
    "\n",
    "        img = np.zeros(dims)\n",
    "\n",
    "        if (len(path)) == 1:\n",
    "            cv2.circle(\n",
    "                img, (round(path[0][0]), round(path[0][1])), line_thickness//2, color, -1\n",
    "            )\n",
    "\n",
    "        for i in range(len(path) - 1):\n",
    "            a = (round(path[i][0]), round(path[i][1]))\n",
    "            b = (round(path[i + 1][0]), round(path[i + 1][1]))\n",
    "            cv2.line(img, a, b, color, line_thickness, cv2.LINE_AA)\n",
    "\n",
    "        return img\n",
    "    def smooth_stroke(path):\n",
    "        iterations = 10\n",
    "        for j in range(iterations):\n",
    "            for i in range(1, len(path)-1):\n",
    "                a = path[i-1]\n",
    "                b = path[i+1]\n",
    "                c = (a+b)/2\n",
    "                path[i] = path[i] * 0.5 + c * 0.5\n",
    "\n",
    "        return path\n",
    "\n",
    "    \n",
    "    new_stroke = placeStroke(remaining_ink, max_loc)\n",
    "    new_stroke = smooth_stroke(new_stroke)\n",
    "    all_paths = add_path_with_merge(all_paths, new_stroke, threshold = 2)\n",
    "    \n",
    "    stroke_raster = rasterStroke(filtered.shape, new_stroke)\n",
    "\n",
    "    remaining_ink = remaining_ink - stroke_raster\n",
    "    remaining_ink = np.clip(remaining_ink, 0, 255)\n",
    "    all_strokes_img = np.clip(all_strokes_img.astype(np.int32) - stroke_raster.astype(np.int32) * 100, 0,255).astype(np.uint8)\n",
    "    if len(all_paths) % 100 == 0:\n",
    "        cv2.imwrite(\"current_stroke.png\",  (all_strokes_img).astype(np.uint8))\n",
    "        cv2.imwrite(\"remaining_ink.png\", remaining_ink)\n",
    "\n",
    "    print(len(all_paths), remaining_ink.sum(), remaining_ink.max(), remaining_ink.min(), end = \"\\r\")\n",
    "\n",
    "\n"
   ]
  },
  {
   "cell_type": "markdown",
   "metadata": {},
   "source": []
  },
  {
   "cell_type": "code",
   "execution_count": 39,
   "metadata": {},
   "outputs": [
    {
     "name": "stdout",
     "output_type": "stream",
     "text": [
      "1259\n",
      "1259\n"
     ]
    },
    {
     "name": "stderr",
     "output_type": "stream",
     "text": [
      "  2%|▏         | 25/1259 [00:00<00:23, 53.08it/s]\n"
     ]
    },
    {
     "data": {
      "text/plain": [
       "True"
      ]
     },
     "execution_count": 39,
     "metadata": {},
     "output_type": "execute_result"
    }
   ],
   "source": [
    "from tqdm import tqdm\n",
    "\n",
    "\n",
    "path_list = [[p for p in path] for path in all_paths if len(path) > 1]\n",
    "\n",
    "print(len(all_paths))\n",
    "print(len(path_list))\n",
    "\n",
    "Merge = True\n",
    "\n",
    "if Merge:\n",
    "    merge_threshold = 1\n",
    "\n",
    "    for i in tqdm(range(len(path_list))):\n",
    "        len_before = len(path_list)\n",
    "        path_list = merge_one_path_kd(path_list, merge_threshold)\n",
    "        if len_before == len(path_list):\n",
    "\n",
    "            break\n",
    "\n",
    "# def getPathLength(path):\n",
    "    # length = 0g\n",
    "    # for i in range(len(path) - 1):\n",
    "        # length += np.linalg.norm(path[i] - path[i+1])\n",
    "    # return length\n",
    "\n",
    "# path_list = close_loops(path_list, threshold=0.01)\n",
    "path_list  = [np.array(path) for path in path_list]\n",
    "\n",
    "# path_list = [path for path in path_list if getPathLength(path) > 2]\n",
    "# path_list = smooth_all_2(path_list, 0.01)\n",
    "\n",
    "path_list = simplify_all(path_list, 0.001)\n",
    "# path_list = smooth_all_2(path_list, 0.01)\n",
    "\n",
    "# path_list = simplify_all(path_list, 0.1)\n",
    "\n",
    "RENDER_SCALE = 0.5\n",
    "render_img = plotPaths(path_list, RENDER_SCALE)\n",
    "cv2.imwrite(\"render.png\", render_img)"
   ]
  },
  {
   "cell_type": "code",
   "execution_count": null,
   "metadata": {},
   "outputs": [],
   "source": []
  },
  {
   "cell_type": "code",
   "execution_count": 27,
   "metadata": {},
   "outputs": [],
   "source": [
    " \n",
    "import json\n",
    "import uuid\n",
    "\n",
    "projects_folder = \"/Users/nshelton/Hephaestus/projects\"\n",
    "# projects_folder = \".\"\n",
    "\n",
    "def writePlot(paths):\n",
    "    dictionary = {\n",
    "        \"created_time\": \"4/7/2024 4:42:27 PM\",\n",
    "        \"modified_time\": \"4/7/2024 6:27:36 PM\",\n",
    "        \"camera_position\": [100, 100],\n",
    "        \"zoom\": 100.702,\n",
    "        \"aspect\": 0.563,\n",
    "        \"dom_element\": {},\n",
    "        \"plot_models\": [],\n",
    "    }\n",
    "\n",
    "    dictionary[\"plot_models\"].append(\n",
    "        {\n",
    "            \"position\": {\"x\": 0, \"y\": 0},\n",
    "            \"paths\": [path.tolist() for path in path_list],\n",
    "            \"scale\": 0.1,\n",
    "            \"id\": str(uuid.uuid4()),\n",
    "            \"state\": \"none\",\n",
    "        }\n",
    "    )\n",
    "\n",
    "    with open(projects_folder + \"/vetebrae_squirl.json\", \"w\") as outfile:\n",
    "        \n",
    "        json.dump(dictionary, outfile)\n",
    "\n",
    "writePlot(path_list)\n",
    "\n"
   ]
  },
  {
   "cell_type": "markdown",
   "metadata": {},
   "source": []
  }
 ],
 "metadata": {
  "kernelspec": {
   "display_name": "base",
   "language": "python",
   "name": "python3"
  },
  "language_info": {
   "codemirror_mode": {
    "name": "ipython",
    "version": 3
   },
   "file_extension": ".py",
   "mimetype": "text/x-python",
   "name": "python",
   "nbconvert_exporter": "python",
   "pygments_lexer": "ipython3",
   "version": "3.11.0"
  }
 },
 "nbformat": 4,
 "nbformat_minor": 2
}
