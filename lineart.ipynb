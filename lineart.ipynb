{
 "cells": [
  {
   "cell_type": "code",
   "execution_count": null,
   "metadata": {},
   "outputs": [],
   "source": []
  },
  {
   "cell_type": "markdown",
   "metadata": {},
   "source": [
    "// voronoi  relaxation\n",
    "\n",
    "//grid based hatching\n",
    "\n",
    "// units are in mm"
   ]
  },
  {
   "cell_type": "code",
   "execution_count": null,
   "metadata": {},
   "outputs": [],
   "source": []
  },
  {
   "cell_type": "code",
   "execution_count": 1,
   "metadata": {},
   "outputs": [
    {
     "name": "stdout",
     "output_type": "stream",
     "text": [
      "(754, 1262, 3)\n",
      "[[0 0 0 ... 0 0 0]\n",
      " [0 0 0 ... 0 0 0]\n",
      " [0 0 0 ... 0 0 0]\n",
      " ...\n",
      " [0 0 0 ... 0 0 0]\n",
      " [0 0 0 ... 0 0 0]\n",
      " [0 0 0 ... 0 0 0]]\n"
     ]
    },
    {
     "data": {
      "text/plain": [
       "True"
      ]
     },
     "execution_count": 1,
     "metadata": {},
     "output_type": "execute_result"
    }
   ],
   "source": [
    "import numpy as np\n",
    "\n",
    "from skimage.transform import hough_line, hough_line_peaks\n",
    "from skimage.feature import canny\n",
    "from skimage.draw import line as draw_line\n",
    "from skimage import data\n",
    "import cv2\n",
    "import matplotlib.pyplot as plt\n",
    "from matplotlib import cm\n",
    "from skimage.transform import probabilistic_hough_line\n",
    "import random \n",
    "\n",
    "# Load image\"\n",
    "# image_path = \"/Users/nshelton/Pictures/gundam_title.png\"\n",
    "image_path = \"/Users/nshelton/Pictures/power86.png\"\n",
    "\n",
    "\n",
    "image = cv2.imread(image_path)\n",
    "print(image.shape)\n",
    "\n",
    "# image[:,:,1] = image[:,:,0]\n",
    "# image[:,:,2] = image[:,:,0]\n",
    "\n",
    "image_gray = cv2.cvtColor(image, cv2.COLOR_BGR2GRAY)\n",
    "image_gray = cv2.resize(image_gray, (-1,-1), fx = 2, fy = 2)\n",
    " \n",
    "_ , filtered =  cv2.threshold(image_gray, 150, 255, cv2.THRESH_BINARY_INV)\n",
    "print(filtered)\n",
    "# sigma = 2\n",
    "# min_canny = 2\n",
    "# max_canny = 100\n",
    "# filtered = canny(image_gray, sigma, min_canny, max_canny).astype(np.uint8) * 255\n",
    "\n",
    "cv2.imwrite(\"filtered.png\", filtered)\n",
    "\n",
    "\n",
    "\n"
   ]
  },
  {
   "cell_type": "code",
   "execution_count": 24,
   "metadata": {},
   "outputs": [
    {
     "name": "stdout",
     "output_type": "stream",
     "text": [
      "5355.0 \t 455\t\t\t\t\t\t\t\r"
     ]
    }
   ],
   "source": [
    "\n",
    "remaining_ink = filtered.copy()\n",
    "all_strokes_raster = np.ones(remaining_ink.shape) * 255\n",
    "\n",
    "all_paths = []\n",
    "\n",
    "\n",
    "def lookupxy(raster, xy) : return raster[int(xy[1]), int(xy[0])]\n",
    "\n",
    "while len(all_paths) < 5000 and remaining_ink.sum() > 1000:\n",
    "    print(remaining_ink.sum(), \"\\t\", len(all_paths),  end=\"\\t\\t\\t\\r\")\n",
    "    min_val, max_val, min_loc, max_loc = cv2.minMaxLoc(remaining_ink)\n",
    "\n",
    "    def placeStroke(input_raster, start):\n",
    "        img = input_raster.copy()\n",
    "        path = []\n",
    "        pos = np.array(start)\n",
    "\n",
    "        window = 2\n",
    "\n",
    "        max_val = lookupxy(input_raster, pos)\n",
    "\n",
    "        while(max_val > 0):\n",
    "            min_val, max_val, min_loc, max_loc  = cv2.minMaxLoc(img[pos[1] - window:pos[1] + window +1, pos[0] - window:pos[0] + window +1])\n",
    "            pos += np.array(max_loc) - window \n",
    "            path.append(pos.copy())\n",
    "            cv2.circle(img, pos, window-1, 0, -1)\n",
    "\n",
    "        return path\n",
    "    \n",
    "    line_thickness = 5\n",
    "    def rasterStroke(dims, path) :\n",
    "        img = np.zeros(dims)\n",
    "        for i in range(len(path)-1):\n",
    "            a = (round(path[i][0]) , round(path[i][1]) )\n",
    "            b = (round(path[i+1][0]) , round(path[i+1][1]) )\n",
    "            cv2.line(img, a, b, 1, line_thickness, cv2.LINE_4)\n",
    "            \n",
    "        return img\n",
    "\n",
    "    \n",
    "    new_stroke = placeStroke(remaining_ink, max_loc)\n",
    "    all_paths.append(new_stroke)\n",
    "    stroke_raster = rasterStroke(image_gray.shape, new_stroke)\n",
    "\n",
    "    remaining_ink = remaining_ink - stroke_raster * 255\n",
    "    remaining_ink = np.clip(remaining_ink, 0, 255)\n",
    "    all_strokes_raster = np.clip(all_strokes_raster.astype(np.int32) - stroke_raster.astype(np.int32) * 255, 0, 255).astype(np.uint8)\n",
    "\n",
    "    # cv2.imwrite(\"current_stroke.png\",  (all_strokes_raster).astype(np.uint8))\n",
    "    # cv2.imwrite(\"remaining_ink.png\", remaining_ink)\n",
    "# cv2.imwrite(\"current_stroke.png\",  (all_strokes_raster).astype(np.uint8))\n",
    "\n",
    "\n"
   ]
  },
  {
   "cell_type": "code",
   "execution_count": 20,
   "metadata": {},
   "outputs": [
    {
     "name": "stdout",
     "output_type": "stream",
     "text": [
      "456\n"
     ]
    },
    {
     "data": {
      "text/plain": [
       "True"
      ]
     },
     "execution_count": 20,
     "metadata": {},
     "output_type": "execute_result"
    }
   ],
   "source": [
    "import cv2\n",
    "import numpy as np\n",
    "\n",
    "from pathUtils import *\n",
    "\n",
    "\n",
    "\n",
    "path_list = [[p.tolist() for p in path] for path in all_paths]\n",
    "\n",
    "print(len(path_list))\n",
    "# connect_close_paths(path_list)\n",
    "path_list = [[p.tolist() for p in path] for path in all_paths]\n",
    "render_img = plotPaths(path_list, 0.1)\n",
    "cv2.imwrite(\"render.png\", render_img)\n",
    "\n"
   ]
  },
  {
   "cell_type": "code",
   "execution_count": 21,
   "metadata": {},
   "outputs": [
    {
     "name": "stderr",
     "output_type": "stream",
     "text": [
      "  3%|▎         | 13/456 [00:00<00:03, 119.19it/s]"
     ]
    },
    {
     "name": "stdout",
     "output_type": "stream",
     "text": [
      "merged to 443\n"
     ]
    },
    {
     "name": "stderr",
     "output_type": "stream",
     "text": [
      "\n"
     ]
    }
   ],
   "source": [
    "from tqdm import tqdm\n",
    "\n",
    "\n",
    "\n",
    "merge_threshold = 5\n",
    "\n",
    "\n",
    "for i in tqdm(range(len(path_list))):\n",
    "    len_before = len(path_list)\n",
    "    path_list = merge_one_path_kd(path_list, merge_threshold)\n",
    "    if len_before == len(path_list):\n",
    "        break\n",
    "\n",
    "print(\"merged to\", len(path_list))\n",
    "\n",
    "\n"
   ]
  },
  {
   "cell_type": "code",
   "execution_count": 22,
   "metadata": {},
   "outputs": [
    {
     "name": "stdout",
     "output_type": "stream",
     "text": [
      "closed loops 443\n",
      "smoothed 1 443\n",
      "simplify_all 1 443\n",
      "smoothed 2 443\n",
      "simplify 2 443\n"
     ]
    }
   ],
   "source": [
    "\n",
    "path_list = close_loops(path_list)\n",
    "\n",
    "print(\"closed loops\", len(path_list))\n",
    "\n",
    "path_list  = [np.array(path) for path in path_list]\n",
    "\n",
    "for _ in range(1):\n",
    "    path_list = smooth_all_2(path_list, 0.01)\n",
    "\n",
    "print(\"smoothed 1\", len(path_list))\n",
    "\n",
    "path_list = simplify_all(path_list, 0.001)\n",
    "\n",
    "print(\"simplify_all 1\", len(path_list))\n",
    "\n",
    "for _ in range(1):\n",
    "    path_list = smooth_all_2(path_list, 0.1)\n",
    "\n",
    "print(\"smoothed 2\", len(path_list))\n",
    "\n",
    "path_list = simplify_all(path_list, 0.1)\n",
    "print(\"simplify 2\", len(path_list))\n",
    "\n",
    "\n",
    "\n"
   ]
  },
  {
   "cell_type": "code",
   "execution_count": 23,
   "metadata": {},
   "outputs": [
    {
     "data": {
      "text/plain": [
       "True"
      ]
     },
     "execution_count": 23,
     "metadata": {},
     "output_type": "execute_result"
    }
   ],
   "source": [
    "\n",
    "render_img = plotPaths(path_list, 0.2)\n",
    "cv2.imwrite(\"render.png\", render_img)\n"
   ]
  },
  {
   "cell_type": "code",
   "execution_count": 17,
   "metadata": {},
   "outputs": [],
   "source": [
    " \n",
    "import json \n",
    "import uuid\n",
    "\n",
    "projects_folder = \"/Users/nshelton/Hephaestus/projects\"\n",
    "\n",
    "def writePlot(paths):\n",
    "    dictionary = {\n",
    "        \"created_time\": \"4/7/2024 4:42:27 PM\",\n",
    "        \"modified_time\": \"4/7/2024 6:27:36 PM\",\n",
    "        \"camera_position\": [100, 100],\n",
    "        \"zoom\": 10.702,\n",
    "        \"aspect\": 0.563,\n",
    "        \"dom_element\": {},\n",
    "        \"plot_models\": [],\n",
    "    }\n",
    "\n",
    "    dictionary[\"plot_models\"].append(\n",
    "        {\n",
    "            \"position\": {\"x\": 0, \"y\": 0},\n",
    "            \"paths\": [path.tolist() for path in path_list],\n",
    "            \"scale\": 0.03,\n",
    "            \"id\": str(uuid.uuid4()),\n",
    "            \"state\": \"none\",\n",
    "        }\n",
    "    )\n",
    "\n",
    "\n",
    "    with open(projects_folder + \"/circuit.json\", \"w\") as outfile:\n",
    "        \n",
    "        json.dump(dictionary, outfile)\n",
    "\n",
    "\n",
    "writePlot(path_list)\n",
    "\n"
   ]
  },
  {
   "cell_type": "code",
   "execution_count": null,
   "metadata": {},
   "outputs": [],
   "source": []
  },
  {
   "cell_type": "code",
   "execution_count": null,
   "metadata": {},
   "outputs": [],
   "source": []
  },
  {
   "cell_type": "markdown",
   "metadata": {},
   "source": []
  }
 ],
 "metadata": {
  "kernelspec": {
   "display_name": "base",
   "language": "python",
   "name": "python3"
  },
  "language_info": {
   "codemirror_mode": {
    "name": "ipython",
    "version": 3
   },
   "file_extension": ".py",
   "mimetype": "text/x-python",
   "name": "python",
   "nbconvert_exporter": "python",
   "pygments_lexer": "ipython3",
   "version": "3.11.0"
  }
 },
 "nbformat": 4,
 "nbformat_minor": 2
}
